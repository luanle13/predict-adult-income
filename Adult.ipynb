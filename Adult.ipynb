{
  "cells": [
    {
      "cell_type": "markdown",
      "metadata": {
        "id": "Tu7E6OX9asPi"
      },
      "source": [
        "# Import libraries"
      ]
    },
    {
      "cell_type": "code",
      "execution_count": 19,
      "metadata": {
        "id": "B2uuJsA5mRaJ"
      },
      "outputs": [],
      "source": [
        "import pandas as pd\n",
        "from sklearn.model_selection import train_test_split\n",
        "from sklearn.preprocessing import LabelEncoder, StandardScaler\n",
        "from sklearn.metrics import accuracy_score\n",
        "from sklearn.svm import SVC\n",
        "from sklearn.linear_model import LogisticRegression\n",
        "import os\n",
        "from keras.models import Sequential\n",
        "from keras.layers import Dense\n",
        "import numpy as np"
      ]
    },
    {
      "cell_type": "markdown",
      "metadata": {
        "id": "B5GcTxMaYnAo"
      },
      "source": [
        "# Read data from CSV files"
      ]
    },
    {
      "cell_type": "code",
      "execution_count": 2,
      "metadata": {
        "id": "Blc9uX9bFgF3"
      },
      "outputs": [
        {
          "data": {
            "text/html": [
              "<div>\n",
              "<style scoped>\n",
              "    .dataframe tbody tr th:only-of-type {\n",
              "        vertical-align: middle;\n",
              "    }\n",
              "\n",
              "    .dataframe tbody tr th {\n",
              "        vertical-align: top;\n",
              "    }\n",
              "\n",
              "    .dataframe thead th {\n",
              "        text-align: right;\n",
              "    }\n",
              "</style>\n",
              "<table border=\"1\" class=\"dataframe\">\n",
              "  <thead>\n",
              "    <tr style=\"text-align: right;\">\n",
              "      <th></th>\n",
              "      <th>age</th>\n",
              "      <th>workclass</th>\n",
              "      <th>fnlwgt</th>\n",
              "      <th>education</th>\n",
              "      <th>education-num</th>\n",
              "      <th>marital-status</th>\n",
              "      <th>occupation</th>\n",
              "      <th>relationship</th>\n",
              "      <th>race</th>\n",
              "      <th>sex</th>\n",
              "      <th>capital-gain</th>\n",
              "      <th>capital-loss</th>\n",
              "      <th>hours-per-week</th>\n",
              "      <th>native-country</th>\n",
              "      <th>income</th>\n",
              "    </tr>\n",
              "  </thead>\n",
              "  <tbody>\n",
              "    <tr>\n",
              "      <th>0</th>\n",
              "      <td>39</td>\n",
              "      <td>State-gov</td>\n",
              "      <td>77516</td>\n",
              "      <td>Bachelors</td>\n",
              "      <td>13</td>\n",
              "      <td>Never-married</td>\n",
              "      <td>Adm-clerical</td>\n",
              "      <td>Not-in-family</td>\n",
              "      <td>White</td>\n",
              "      <td>Male</td>\n",
              "      <td>2174</td>\n",
              "      <td>0</td>\n",
              "      <td>40</td>\n",
              "      <td>United-States</td>\n",
              "      <td>&lt;=50K</td>\n",
              "    </tr>\n",
              "    <tr>\n",
              "      <th>1</th>\n",
              "      <td>50</td>\n",
              "      <td>Self-emp-not-inc</td>\n",
              "      <td>83311</td>\n",
              "      <td>Bachelors</td>\n",
              "      <td>13</td>\n",
              "      <td>Married-civ-spouse</td>\n",
              "      <td>Exec-managerial</td>\n",
              "      <td>Husband</td>\n",
              "      <td>White</td>\n",
              "      <td>Male</td>\n",
              "      <td>0</td>\n",
              "      <td>0</td>\n",
              "      <td>13</td>\n",
              "      <td>United-States</td>\n",
              "      <td>&lt;=50K</td>\n",
              "    </tr>\n",
              "    <tr>\n",
              "      <th>2</th>\n",
              "      <td>38</td>\n",
              "      <td>Private</td>\n",
              "      <td>215646</td>\n",
              "      <td>HS-grad</td>\n",
              "      <td>9</td>\n",
              "      <td>Divorced</td>\n",
              "      <td>Handlers-cleaners</td>\n",
              "      <td>Not-in-family</td>\n",
              "      <td>White</td>\n",
              "      <td>Male</td>\n",
              "      <td>0</td>\n",
              "      <td>0</td>\n",
              "      <td>40</td>\n",
              "      <td>United-States</td>\n",
              "      <td>&lt;=50K</td>\n",
              "    </tr>\n",
              "    <tr>\n",
              "      <th>3</th>\n",
              "      <td>53</td>\n",
              "      <td>Private</td>\n",
              "      <td>234721</td>\n",
              "      <td>11th</td>\n",
              "      <td>7</td>\n",
              "      <td>Married-civ-spouse</td>\n",
              "      <td>Handlers-cleaners</td>\n",
              "      <td>Husband</td>\n",
              "      <td>Black</td>\n",
              "      <td>Male</td>\n",
              "      <td>0</td>\n",
              "      <td>0</td>\n",
              "      <td>40</td>\n",
              "      <td>United-States</td>\n",
              "      <td>&lt;=50K</td>\n",
              "    </tr>\n",
              "    <tr>\n",
              "      <th>4</th>\n",
              "      <td>28</td>\n",
              "      <td>Private</td>\n",
              "      <td>338409</td>\n",
              "      <td>Bachelors</td>\n",
              "      <td>13</td>\n",
              "      <td>Married-civ-spouse</td>\n",
              "      <td>Prof-specialty</td>\n",
              "      <td>Wife</td>\n",
              "      <td>Black</td>\n",
              "      <td>Female</td>\n",
              "      <td>0</td>\n",
              "      <td>0</td>\n",
              "      <td>40</td>\n",
              "      <td>Cuba</td>\n",
              "      <td>&lt;=50K</td>\n",
              "    </tr>\n",
              "  </tbody>\n",
              "</table>\n",
              "</div>"
            ],
            "text/plain": [
              "   age         workclass  fnlwgt  education  education-num  \\\n",
              "0   39         State-gov   77516  Bachelors             13   \n",
              "1   50  Self-emp-not-inc   83311  Bachelors             13   \n",
              "2   38           Private  215646    HS-grad              9   \n",
              "3   53           Private  234721       11th              7   \n",
              "4   28           Private  338409  Bachelors             13   \n",
              "\n",
              "       marital-status         occupation   relationship   race     sex  \\\n",
              "0       Never-married       Adm-clerical  Not-in-family  White    Male   \n",
              "1  Married-civ-spouse    Exec-managerial        Husband  White    Male   \n",
              "2            Divorced  Handlers-cleaners  Not-in-family  White    Male   \n",
              "3  Married-civ-spouse  Handlers-cleaners        Husband  Black    Male   \n",
              "4  Married-civ-spouse     Prof-specialty           Wife  Black  Female   \n",
              "\n",
              "   capital-gain  capital-loss  hours-per-week native-country income  \n",
              "0          2174             0              40  United-States  <=50K  \n",
              "1             0             0              13  United-States  <=50K  \n",
              "2             0             0              40  United-States  <=50K  \n",
              "3             0             0              40  United-States  <=50K  \n",
              "4             0             0              40           Cuba  <=50K  "
            ]
          },
          "execution_count": 2,
          "metadata": {},
          "output_type": "execute_result"
        }
      ],
      "source": [
        "df_train = pd.read_csv('./data/adult.data')\n",
        "df_train.head()"
      ]
    },
    {
      "cell_type": "code",
      "execution_count": 3,
      "metadata": {
        "id": "_2lXM7joZFp7"
      },
      "outputs": [
        {
          "data": {
            "text/html": [
              "<div>\n",
              "<style scoped>\n",
              "    .dataframe tbody tr th:only-of-type {\n",
              "        vertical-align: middle;\n",
              "    }\n",
              "\n",
              "    .dataframe tbody tr th {\n",
              "        vertical-align: top;\n",
              "    }\n",
              "\n",
              "    .dataframe thead th {\n",
              "        text-align: right;\n",
              "    }\n",
              "</style>\n",
              "<table border=\"1\" class=\"dataframe\">\n",
              "  <thead>\n",
              "    <tr style=\"text-align: right;\">\n",
              "      <th></th>\n",
              "      <th>age</th>\n",
              "      <th>workclass</th>\n",
              "      <th>fnlwgt</th>\n",
              "      <th>education</th>\n",
              "      <th>education-num</th>\n",
              "      <th>marital-status</th>\n",
              "      <th>occupation</th>\n",
              "      <th>relationship</th>\n",
              "      <th>race</th>\n",
              "      <th>sex</th>\n",
              "      <th>capital-gain</th>\n",
              "      <th>capital-loss</th>\n",
              "      <th>hours-per-week</th>\n",
              "      <th>native-country</th>\n",
              "      <th>income</th>\n",
              "    </tr>\n",
              "  </thead>\n",
              "  <tbody>\n",
              "    <tr>\n",
              "      <th>0</th>\n",
              "      <td>25</td>\n",
              "      <td>Private</td>\n",
              "      <td>226802</td>\n",
              "      <td>11th</td>\n",
              "      <td>7</td>\n",
              "      <td>Never-married</td>\n",
              "      <td>Machine-op-inspct</td>\n",
              "      <td>Own-child</td>\n",
              "      <td>Black</td>\n",
              "      <td>Male</td>\n",
              "      <td>0</td>\n",
              "      <td>0</td>\n",
              "      <td>40</td>\n",
              "      <td>United-States</td>\n",
              "      <td>&lt;=50K</td>\n",
              "    </tr>\n",
              "    <tr>\n",
              "      <th>1</th>\n",
              "      <td>38</td>\n",
              "      <td>Private</td>\n",
              "      <td>89814</td>\n",
              "      <td>HS-grad</td>\n",
              "      <td>9</td>\n",
              "      <td>Married-civ-spouse</td>\n",
              "      <td>Farming-fishing</td>\n",
              "      <td>Husband</td>\n",
              "      <td>White</td>\n",
              "      <td>Male</td>\n",
              "      <td>0</td>\n",
              "      <td>0</td>\n",
              "      <td>50</td>\n",
              "      <td>United-States</td>\n",
              "      <td>&lt;=50K</td>\n",
              "    </tr>\n",
              "    <tr>\n",
              "      <th>2</th>\n",
              "      <td>28</td>\n",
              "      <td>Local-gov</td>\n",
              "      <td>336951</td>\n",
              "      <td>Assoc-acdm</td>\n",
              "      <td>12</td>\n",
              "      <td>Married-civ-spouse</td>\n",
              "      <td>Protective-serv</td>\n",
              "      <td>Husband</td>\n",
              "      <td>White</td>\n",
              "      <td>Male</td>\n",
              "      <td>0</td>\n",
              "      <td>0</td>\n",
              "      <td>40</td>\n",
              "      <td>United-States</td>\n",
              "      <td>&gt;50K</td>\n",
              "    </tr>\n",
              "    <tr>\n",
              "      <th>3</th>\n",
              "      <td>44</td>\n",
              "      <td>Private</td>\n",
              "      <td>160323</td>\n",
              "      <td>Some-college</td>\n",
              "      <td>10</td>\n",
              "      <td>Married-civ-spouse</td>\n",
              "      <td>Machine-op-inspct</td>\n",
              "      <td>Husband</td>\n",
              "      <td>Black</td>\n",
              "      <td>Male</td>\n",
              "      <td>7688</td>\n",
              "      <td>0</td>\n",
              "      <td>40</td>\n",
              "      <td>United-States</td>\n",
              "      <td>&gt;50K</td>\n",
              "    </tr>\n",
              "    <tr>\n",
              "      <th>4</th>\n",
              "      <td>18</td>\n",
              "      <td>?</td>\n",
              "      <td>103497</td>\n",
              "      <td>Some-college</td>\n",
              "      <td>10</td>\n",
              "      <td>Never-married</td>\n",
              "      <td>?</td>\n",
              "      <td>Own-child</td>\n",
              "      <td>White</td>\n",
              "      <td>Female</td>\n",
              "      <td>0</td>\n",
              "      <td>0</td>\n",
              "      <td>30</td>\n",
              "      <td>United-States</td>\n",
              "      <td>&lt;=50K</td>\n",
              "    </tr>\n",
              "  </tbody>\n",
              "</table>\n",
              "</div>"
            ],
            "text/plain": [
              "   age  workclass  fnlwgt     education  education-num      marital-status  \\\n",
              "0   25    Private  226802          11th              7       Never-married   \n",
              "1   38    Private   89814       HS-grad              9  Married-civ-spouse   \n",
              "2   28  Local-gov  336951    Assoc-acdm             12  Married-civ-spouse   \n",
              "3   44    Private  160323  Some-college             10  Married-civ-spouse   \n",
              "4   18          ?  103497  Some-college             10       Never-married   \n",
              "\n",
              "          occupation relationship   race     sex  capital-gain  capital-loss  \\\n",
              "0  Machine-op-inspct    Own-child  Black    Male             0             0   \n",
              "1    Farming-fishing      Husband  White    Male             0             0   \n",
              "2    Protective-serv      Husband  White    Male             0             0   \n",
              "3  Machine-op-inspct      Husband  Black    Male          7688             0   \n",
              "4                  ?    Own-child  White  Female             0             0   \n",
              "\n",
              "   hours-per-week native-country income  \n",
              "0              40  United-States  <=50K  \n",
              "1              50  United-States  <=50K  \n",
              "2              40  United-States   >50K  \n",
              "3              40  United-States   >50K  \n",
              "4              30  United-States  <=50K  "
            ]
          },
          "execution_count": 3,
          "metadata": {},
          "output_type": "execute_result"
        }
      ],
      "source": [
        "df_test = pd.read_csv('./data/adult.test')\n",
        "df_test.head()"
      ]
    },
    {
      "cell_type": "markdown",
      "metadata": {
        "id": "QQMMCwevY3Lo"
      },
      "source": [
        "# Preprocess data"
      ]
    },
    {
      "cell_type": "markdown",
      "metadata": {
        "id": "_x1GZaURY8G7"
      },
      "source": [
        "## Extract list of labels categories to .txt files"
      ]
    },
    {
      "cell_type": "code",
      "execution_count": 4,
      "metadata": {
        "id": "bEbQLPitF0GT"
      },
      "outputs": [],
      "source": [
        "label_encoders = {}\n",
        "for column in df_train.select_dtypes(include=['object']).columns:\n",
        "    labels = df_train[column].unique()\n",
        "    with open(f'./categories/{column}.txt', 'w') as file:\n",
        "        for label in labels:\n",
        "            file.write(f'{label}\\n')"
      ]
    },
    {
      "cell_type": "markdown",
      "metadata": {
        "id": "TED1th2UZJHS"
      },
      "source": [
        "## Encode data"
      ]
    },
    {
      "cell_type": "code",
      "execution_count": 5,
      "metadata": {
        "id": "VFdTZQshGK5Q"
      },
      "outputs": [],
      "source": [
        "mapping_folder_path = './categories'\n",
        "file_extension = '.txt'\n",
        "file_list = [file_name for file_name in os.listdir(mapping_folder_path) if file_name.endswith(file_extension)]\n",
        "\n",
        "for file_name in file_list:\n",
        "    column = file_name.split('.')[0]\n",
        "    with open(f'./categories/{file_name}', 'r') as file:\n",
        "        labels = []\n",
        "        for line in file:\n",
        "            labels.append(line.strip())\n",
        "        label_encoder = LabelEncoder()\n",
        "        label_encoder.fit(labels)\n",
        "        df_train[column] = label_encoder.transform(df_train[column])\n",
        "        df_test[column] = label_encoder.transform(df_test[column])\n",
        "\n",
        "df_train = df_train.dropna()\n",
        "df_test = df_test.dropna()\n",
        "X_train = df_train.drop('income', axis=1).drop('fnlwgt', axis=1)\n",
        "y_train = df_train['income']\n",
        "X_test = df_test.drop('income', axis=1).drop('fnlwgt', axis=1)\n",
        "y_test = df_test['income']"
      ]
    },
    {
      "cell_type": "markdown",
      "metadata": {
        "id": "-Z9UYMYFZnFg"
      },
      "source": [
        "## Standardize data"
      ]
    },
    {
      "cell_type": "code",
      "execution_count": 6,
      "metadata": {
        "id": "TpwPPkbrGjz5"
      },
      "outputs": [],
      "source": [
        "scaler = StandardScaler()\n",
        "X_train_std = scaler.fit_transform(X_train)\n",
        "X_train_std = X_train_std.astype('float32')\n",
        "X_test_std = scaler.transform(X_test)\n",
        "X_test_std = X_test_std.astype('float32')\n",
        "y_train = y_train.astype('float32')\n",
        "y_test = y_test.astype('float32')"
      ]
    },
    {
      "cell_type": "markdown",
      "metadata": {
        "id": "shzLX1pkZwp6"
      },
      "source": [
        "# Deep Neural Network (DNN)"
      ]
    },
    {
      "cell_type": "markdown",
      "metadata": {
        "id": "BVlsalRxZ4UX"
      },
      "source": [
        "## Create model"
      ]
    },
    {
      "cell_type": "code",
      "execution_count": 7,
      "metadata": {
        "id": "Bgv9cbCrZ_R5"
      },
      "outputs": [
        {
          "name": "stdout",
          "output_type": "stream",
          "text": [
            "WARNING:tensorflow:From c:\\Works\\predict-adult-income\\venv\\Lib\\site-packages\\keras\\src\\backend.py:873: The name tf.get_default_graph is deprecated. Please use tf.compat.v1.get_default_graph instead.\n",
            "\n",
            "WARNING:tensorflow:From c:\\Works\\predict-adult-income\\venv\\Lib\\site-packages\\keras\\src\\optimizers\\__init__.py:309: The name tf.train.Optimizer is deprecated. Please use tf.compat.v1.train.Optimizer instead.\n",
            "\n"
          ]
        }
      ],
      "source": [
        "model = Sequential([\n",
        "    Dense(128, activation='relu', input_shape=(X_train_std.shape[1],)),\n",
        "    Dense(64, activation='relu'),\n",
        "    Dense(1, activation='sigmoid'),\n",
        "])\n",
        "\n",
        "model.compile(optimizer='adam', loss='binary_crossentropy', metrics=['accuracy'])"
      ]
    },
    {
      "cell_type": "markdown",
      "metadata": {
        "id": "dLTojaXuZ_M_"
      },
      "source": [
        "## Train model"
      ]
    },
    {
      "cell_type": "code",
      "execution_count": 8,
      "metadata": {
        "id": "vpScZMnbHDpa"
      },
      "outputs": [
        {
          "name": "stdout",
          "output_type": "stream",
          "text": [
            "Epoch 1/100\n",
            "WARNING:tensorflow:From c:\\Works\\predict-adult-income\\venv\\Lib\\site-packages\\keras\\src\\utils\\tf_utils.py:492: The name tf.ragged.RaggedTensorValue is deprecated. Please use tf.compat.v1.ragged.RaggedTensorValue instead.\n",
            "\n",
            "WARNING:tensorflow:From c:\\Works\\predict-adult-income\\venv\\Lib\\site-packages\\keras\\src\\engine\\base_layer_utils.py:384: The name tf.executing_eagerly_outside_functions is deprecated. Please use tf.compat.v1.executing_eagerly_outside_functions instead.\n",
            "\n",
            "814/814 [==============================] - 1s 846us/step - loss: 0.3510 - accuracy: 0.8360 - val_loss: 0.3291 - val_accuracy: 0.8488\n",
            "Epoch 2/100\n",
            "814/814 [==============================] - 1s 737us/step - loss: 0.3275 - accuracy: 0.8464 - val_loss: 0.3226 - val_accuracy: 0.8486\n",
            "Epoch 3/100\n",
            "814/814 [==============================] - 1s 733us/step - loss: 0.3226 - accuracy: 0.8490 - val_loss: 0.3221 - val_accuracy: 0.8477\n",
            "Epoch 4/100\n",
            "814/814 [==============================] - 1s 740us/step - loss: 0.3190 - accuracy: 0.8505 - val_loss: 0.3214 - val_accuracy: 0.8468\n",
            "Epoch 5/100\n",
            "814/814 [==============================] - 1s 734us/step - loss: 0.3172 - accuracy: 0.8512 - val_loss: 0.3192 - val_accuracy: 0.8481\n",
            "Epoch 6/100\n",
            "814/814 [==============================] - 1s 727us/step - loss: 0.3153 - accuracy: 0.8531 - val_loss: 0.3190 - val_accuracy: 0.8523\n",
            "Epoch 7/100\n",
            "814/814 [==============================] - 1s 742us/step - loss: 0.3138 - accuracy: 0.8535 - val_loss: 0.3207 - val_accuracy: 0.8475\n",
            "Epoch 8/100\n",
            "814/814 [==============================] - 1s 734us/step - loss: 0.3112 - accuracy: 0.8559 - val_loss: 0.3235 - val_accuracy: 0.8491\n",
            "Epoch 9/100\n",
            "814/814 [==============================] - 1s 736us/step - loss: 0.3098 - accuracy: 0.8553 - val_loss: 0.3195 - val_accuracy: 0.8463\n",
            "Epoch 10/100\n",
            "814/814 [==============================] - 1s 736us/step - loss: 0.3079 - accuracy: 0.8562 - val_loss: 0.3176 - val_accuracy: 0.8485\n",
            "Epoch 11/100\n",
            "814/814 [==============================] - 1s 739us/step - loss: 0.3066 - accuracy: 0.8569 - val_loss: 0.3181 - val_accuracy: 0.8474\n",
            "Epoch 12/100\n",
            "814/814 [==============================] - 1s 728us/step - loss: 0.3054 - accuracy: 0.8557 - val_loss: 0.3192 - val_accuracy: 0.8509\n",
            "Epoch 13/100\n",
            "814/814 [==============================] - 1s 709us/step - loss: 0.3031 - accuracy: 0.8575 - val_loss: 0.3216 - val_accuracy: 0.8486\n",
            "Epoch 14/100\n",
            "814/814 [==============================] - 1s 726us/step - loss: 0.3012 - accuracy: 0.8579 - val_loss: 0.3187 - val_accuracy: 0.8500\n",
            "Epoch 15/100\n",
            "814/814 [==============================] - 1s 708us/step - loss: 0.2997 - accuracy: 0.8606 - val_loss: 0.3210 - val_accuracy: 0.8488\n",
            "Epoch 16/100\n",
            "814/814 [==============================] - 1s 708us/step - loss: 0.2988 - accuracy: 0.8591 - val_loss: 0.3212 - val_accuracy: 0.8486\n",
            "Epoch 17/100\n",
            "814/814 [==============================] - 1s 739us/step - loss: 0.2972 - accuracy: 0.8606 - val_loss: 0.3178 - val_accuracy: 0.8512\n",
            "Epoch 18/100\n",
            "814/814 [==============================] - 1s 714us/step - loss: 0.2960 - accuracy: 0.8589 - val_loss: 0.3191 - val_accuracy: 0.8491\n",
            "Epoch 19/100\n",
            "814/814 [==============================] - 1s 733us/step - loss: 0.2949 - accuracy: 0.8614 - val_loss: 0.3255 - val_accuracy: 0.8474\n",
            "Epoch 20/100\n",
            "814/814 [==============================] - 1s 721us/step - loss: 0.2934 - accuracy: 0.8622 - val_loss: 0.3169 - val_accuracy: 0.8466\n",
            "Epoch 21/100\n",
            "814/814 [==============================] - 1s 726us/step - loss: 0.2923 - accuracy: 0.8626 - val_loss: 0.3252 - val_accuracy: 0.8466\n",
            "Epoch 22/100\n",
            "814/814 [==============================] - 1s 726us/step - loss: 0.2922 - accuracy: 0.8636 - val_loss: 0.3215 - val_accuracy: 0.8489\n",
            "Epoch 23/100\n",
            "814/814 [==============================] - 1s 742us/step - loss: 0.2891 - accuracy: 0.8641 - val_loss: 0.3220 - val_accuracy: 0.8485\n",
            "Epoch 24/100\n",
            "814/814 [==============================] - 1s 710us/step - loss: 0.2883 - accuracy: 0.8626 - val_loss: 0.3291 - val_accuracy: 0.8451\n",
            "Epoch 25/100\n",
            "814/814 [==============================] - 1s 707us/step - loss: 0.2870 - accuracy: 0.8651 - val_loss: 0.3200 - val_accuracy: 0.8498\n",
            "Epoch 26/100\n",
            "814/814 [==============================] - 1s 702us/step - loss: 0.2853 - accuracy: 0.8663 - val_loss: 0.3244 - val_accuracy: 0.8495\n",
            "Epoch 27/100\n",
            "814/814 [==============================] - 1s 716us/step - loss: 0.2846 - accuracy: 0.8660 - val_loss: 0.3237 - val_accuracy: 0.8498\n",
            "Epoch 28/100\n",
            "814/814 [==============================] - 1s 714us/step - loss: 0.2849 - accuracy: 0.8659 - val_loss: 0.3283 - val_accuracy: 0.8480\n",
            "Epoch 29/100\n",
            "814/814 [==============================] - 1s 718us/step - loss: 0.2825 - accuracy: 0.8663 - val_loss: 0.3234 - val_accuracy: 0.8488\n",
            "Epoch 30/100\n",
            "814/814 [==============================] - 1s 729us/step - loss: 0.2815 - accuracy: 0.8672 - val_loss: 0.3294 - val_accuracy: 0.8462\n",
            "Epoch 31/100\n",
            "814/814 [==============================] - 1s 716us/step - loss: 0.2800 - accuracy: 0.8680 - val_loss: 0.3231 - val_accuracy: 0.8500\n",
            "Epoch 32/100\n",
            "814/814 [==============================] - 1s 720us/step - loss: 0.2787 - accuracy: 0.8696 - val_loss: 0.3319 - val_accuracy: 0.8480\n",
            "Epoch 33/100\n",
            "814/814 [==============================] - 1s 716us/step - loss: 0.2785 - accuracy: 0.8689 - val_loss: 0.3303 - val_accuracy: 0.8483\n",
            "Epoch 34/100\n",
            "814/814 [==============================] - 1s 717us/step - loss: 0.2774 - accuracy: 0.8684 - val_loss: 0.3334 - val_accuracy: 0.8468\n",
            "Epoch 35/100\n",
            "814/814 [==============================] - 1s 718us/step - loss: 0.2759 - accuracy: 0.8697 - val_loss: 0.3311 - val_accuracy: 0.8437\n",
            "Epoch 36/100\n",
            "814/814 [==============================] - 1s 733us/step - loss: 0.2754 - accuracy: 0.8700 - val_loss: 0.3314 - val_accuracy: 0.8486\n",
            "Epoch 37/100\n",
            "814/814 [==============================] - 1s 723us/step - loss: 0.2733 - accuracy: 0.8724 - val_loss: 0.3351 - val_accuracy: 0.8472\n",
            "Epoch 38/100\n",
            "814/814 [==============================] - 1s 703us/step - loss: 0.2730 - accuracy: 0.8720 - val_loss: 0.3345 - val_accuracy: 0.8445\n",
            "Epoch 39/100\n",
            "814/814 [==============================] - 1s 709us/step - loss: 0.2715 - accuracy: 0.8725 - val_loss: 0.3381 - val_accuracy: 0.8419\n",
            "Epoch 40/100\n",
            "814/814 [==============================] - 1s 705us/step - loss: 0.2709 - accuracy: 0.8718 - val_loss: 0.3375 - val_accuracy: 0.8483\n",
            "Epoch 41/100\n",
            "814/814 [==============================] - 1s 695us/step - loss: 0.2699 - accuracy: 0.8717 - val_loss: 0.3334 - val_accuracy: 0.8443\n",
            "Epoch 42/100\n",
            "814/814 [==============================] - 1s 712us/step - loss: 0.2687 - accuracy: 0.8729 - val_loss: 0.3379 - val_accuracy: 0.8455\n",
            "Epoch 43/100\n",
            "814/814 [==============================] - 1s 707us/step - loss: 0.2677 - accuracy: 0.8721 - val_loss: 0.3466 - val_accuracy: 0.8457\n",
            "Epoch 44/100\n",
            "814/814 [==============================] - 1s 712us/step - loss: 0.2668 - accuracy: 0.8747 - val_loss: 0.3404 - val_accuracy: 0.8425\n",
            "Epoch 45/100\n",
            "814/814 [==============================] - 1s 696us/step - loss: 0.2664 - accuracy: 0.8737 - val_loss: 0.3418 - val_accuracy: 0.8454\n",
            "Epoch 46/100\n",
            "814/814 [==============================] - 1s 714us/step - loss: 0.2650 - accuracy: 0.8732 - val_loss: 0.3414 - val_accuracy: 0.8440\n",
            "Epoch 47/100\n",
            "814/814 [==============================] - 1s 711us/step - loss: 0.2636 - accuracy: 0.8736 - val_loss: 0.3403 - val_accuracy: 0.8508\n",
            "Epoch 48/100\n",
            "814/814 [==============================] - 1s 719us/step - loss: 0.2632 - accuracy: 0.8755 - val_loss: 0.3433 - val_accuracy: 0.8451\n",
            "Epoch 49/100\n",
            "814/814 [==============================] - 1s 719us/step - loss: 0.2621 - accuracy: 0.8775 - val_loss: 0.3531 - val_accuracy: 0.8388\n",
            "Epoch 50/100\n",
            "814/814 [==============================] - 1s 706us/step - loss: 0.2609 - accuracy: 0.8770 - val_loss: 0.3512 - val_accuracy: 0.8465\n",
            "Epoch 51/100\n",
            "814/814 [==============================] - 1s 712us/step - loss: 0.2601 - accuracy: 0.8775 - val_loss: 0.3517 - val_accuracy: 0.8478\n",
            "Epoch 52/100\n",
            "814/814 [==============================] - 1s 714us/step - loss: 0.2600 - accuracy: 0.8779 - val_loss: 0.3497 - val_accuracy: 0.8422\n",
            "Epoch 53/100\n",
            "814/814 [==============================] - 1s 712us/step - loss: 0.2592 - accuracy: 0.8775 - val_loss: 0.3520 - val_accuracy: 0.8445\n",
            "Epoch 54/100\n",
            "814/814 [==============================] - 1s 714us/step - loss: 0.2578 - accuracy: 0.8780 - val_loss: 0.3496 - val_accuracy: 0.8437\n",
            "Epoch 55/100\n",
            "814/814 [==============================] - 1s 707us/step - loss: 0.2566 - accuracy: 0.8794 - val_loss: 0.3531 - val_accuracy: 0.8446\n",
            "Epoch 56/100\n",
            "814/814 [==============================] - 1s 709us/step - loss: 0.2553 - accuracy: 0.8798 - val_loss: 0.3529 - val_accuracy: 0.8428\n",
            "Epoch 57/100\n",
            "814/814 [==============================] - 1s 702us/step - loss: 0.2556 - accuracy: 0.8806 - val_loss: 0.3550 - val_accuracy: 0.8432\n",
            "Epoch 58/100\n",
            "814/814 [==============================] - 1s 709us/step - loss: 0.2544 - accuracy: 0.8793 - val_loss: 0.3535 - val_accuracy: 0.8448\n",
            "Epoch 59/100\n",
            "814/814 [==============================] - 1s 734us/step - loss: 0.2543 - accuracy: 0.8811 - val_loss: 0.3548 - val_accuracy: 0.8445\n",
            "Epoch 60/100\n",
            "814/814 [==============================] - 1s 701us/step - loss: 0.2521 - accuracy: 0.8804 - val_loss: 0.3571 - val_accuracy: 0.8411\n",
            "Epoch 61/100\n",
            "814/814 [==============================] - 1s 708us/step - loss: 0.2520 - accuracy: 0.8819 - val_loss: 0.3591 - val_accuracy: 0.8426\n",
            "Epoch 62/100\n",
            "814/814 [==============================] - 1s 708us/step - loss: 0.2518 - accuracy: 0.8810 - val_loss: 0.3627 - val_accuracy: 0.8428\n",
            "Epoch 63/100\n",
            "814/814 [==============================] - 1s 707us/step - loss: 0.2506 - accuracy: 0.8819 - val_loss: 0.3625 - val_accuracy: 0.8448\n",
            "Epoch 64/100\n",
            "814/814 [==============================] - 1s 712us/step - loss: 0.2493 - accuracy: 0.8807 - val_loss: 0.3691 - val_accuracy: 0.8422\n",
            "Epoch 65/100\n",
            "814/814 [==============================] - 1s 712us/step - loss: 0.2496 - accuracy: 0.8792 - val_loss: 0.3618 - val_accuracy: 0.8409\n",
            "Epoch 66/100\n",
            "814/814 [==============================] - 1s 715us/step - loss: 0.2486 - accuracy: 0.8818 - val_loss: 0.3735 - val_accuracy: 0.8389\n",
            "Epoch 67/100\n",
            "814/814 [==============================] - 1s 714us/step - loss: 0.2471 - accuracy: 0.8824 - val_loss: 0.3669 - val_accuracy: 0.8420\n",
            "Epoch 68/100\n",
            "814/814 [==============================] - 1s 712us/step - loss: 0.2467 - accuracy: 0.8830 - val_loss: 0.3699 - val_accuracy: 0.8460\n",
            "Epoch 69/100\n",
            "814/814 [==============================] - 1s 726us/step - loss: 0.2461 - accuracy: 0.8829 - val_loss: 0.3722 - val_accuracy: 0.8420\n",
            "Epoch 70/100\n",
            "814/814 [==============================] - 1s 704us/step - loss: 0.2454 - accuracy: 0.8833 - val_loss: 0.3774 - val_accuracy: 0.8414\n",
            "Epoch 71/100\n",
            "814/814 [==============================] - 1s 709us/step - loss: 0.2441 - accuracy: 0.8839 - val_loss: 0.3725 - val_accuracy: 0.8417\n",
            "Epoch 72/100\n",
            "814/814 [==============================] - 1s 705us/step - loss: 0.2438 - accuracy: 0.8847 - val_loss: 0.3763 - val_accuracy: 0.8385\n",
            "Epoch 73/100\n",
            "814/814 [==============================] - 1s 690us/step - loss: 0.2428 - accuracy: 0.8853 - val_loss: 0.3791 - val_accuracy: 0.8449\n",
            "Epoch 74/100\n",
            "814/814 [==============================] - 1s 699us/step - loss: 0.2419 - accuracy: 0.8849 - val_loss: 0.3766 - val_accuracy: 0.8439\n",
            "Epoch 75/100\n",
            "814/814 [==============================] - 1s 719us/step - loss: 0.2420 - accuracy: 0.8847 - val_loss: 0.3742 - val_accuracy: 0.8385\n",
            "Epoch 76/100\n",
            "814/814 [==============================] - 1s 707us/step - loss: 0.2413 - accuracy: 0.8860 - val_loss: 0.3891 - val_accuracy: 0.8432\n",
            "Epoch 77/100\n",
            "814/814 [==============================] - 1s 718us/step - loss: 0.2398 - accuracy: 0.8846 - val_loss: 0.3843 - val_accuracy: 0.8439\n",
            "Epoch 78/100\n",
            "814/814 [==============================] - 1s 718us/step - loss: 0.2389 - accuracy: 0.8875 - val_loss: 0.3844 - val_accuracy: 0.8466\n",
            "Epoch 79/100\n",
            "814/814 [==============================] - 1s 710us/step - loss: 0.2387 - accuracy: 0.8862 - val_loss: 0.3880 - val_accuracy: 0.8428\n",
            "Epoch 80/100\n",
            "814/814 [==============================] - 1s 708us/step - loss: 0.2380 - accuracy: 0.8867 - val_loss: 0.3882 - val_accuracy: 0.8412\n",
            "Epoch 81/100\n",
            "814/814 [==============================] - 1s 705us/step - loss: 0.2369 - accuracy: 0.8879 - val_loss: 0.3877 - val_accuracy: 0.8440\n",
            "Epoch 82/100\n",
            "814/814 [==============================] - 1s 710us/step - loss: 0.2381 - accuracy: 0.8874 - val_loss: 0.3851 - val_accuracy: 0.8414\n",
            "Epoch 83/100\n",
            "814/814 [==============================] - 1s 698us/step - loss: 0.2351 - accuracy: 0.8876 - val_loss: 0.3850 - val_accuracy: 0.8392\n",
            "Epoch 84/100\n",
            "814/814 [==============================] - 1s 705us/step - loss: 0.2342 - accuracy: 0.8886 - val_loss: 0.4002 - val_accuracy: 0.8412\n",
            "Epoch 85/100\n",
            "814/814 [==============================] - 1s 710us/step - loss: 0.2342 - accuracy: 0.8893 - val_loss: 0.4015 - val_accuracy: 0.8435\n",
            "Epoch 86/100\n",
            "814/814 [==============================] - 1s 699us/step - loss: 0.2345 - accuracy: 0.8871 - val_loss: 0.3926 - val_accuracy: 0.8405\n",
            "Epoch 87/100\n",
            "814/814 [==============================] - 1s 732us/step - loss: 0.2322 - accuracy: 0.8900 - val_loss: 0.3989 - val_accuracy: 0.8434\n",
            "Epoch 88/100\n",
            "814/814 [==============================] - 1s 714us/step - loss: 0.2330 - accuracy: 0.8902 - val_loss: 0.4117 - val_accuracy: 0.8431\n",
            "Epoch 89/100\n",
            "814/814 [==============================] - 1s 705us/step - loss: 0.2324 - accuracy: 0.8895 - val_loss: 0.3980 - val_accuracy: 0.8417\n",
            "Epoch 90/100\n",
            "814/814 [==============================] - 1s 708us/step - loss: 0.2306 - accuracy: 0.8889 - val_loss: 0.3905 - val_accuracy: 0.8434\n",
            "Epoch 91/100\n",
            "814/814 [==============================] - 1s 704us/step - loss: 0.2307 - accuracy: 0.8904 - val_loss: 0.4052 - val_accuracy: 0.8402\n",
            "Epoch 92/100\n",
            "814/814 [==============================] - 1s 707us/step - loss: 0.2294 - accuracy: 0.8913 - val_loss: 0.4080 - val_accuracy: 0.8389\n",
            "Epoch 93/100\n",
            "814/814 [==============================] - 1s 715us/step - loss: 0.2287 - accuracy: 0.8910 - val_loss: 0.4066 - val_accuracy: 0.8389\n",
            "Epoch 94/100\n",
            "814/814 [==============================] - 1s 698us/step - loss: 0.2291 - accuracy: 0.8925 - val_loss: 0.4148 - val_accuracy: 0.8334\n",
            "Epoch 95/100\n",
            "814/814 [==============================] - 1s 703us/step - loss: 0.2290 - accuracy: 0.8922 - val_loss: 0.4139 - val_accuracy: 0.8386\n",
            "Epoch 96/100\n",
            "814/814 [==============================] - 1s 705us/step - loss: 0.2290 - accuracy: 0.8922 - val_loss: 0.4062 - val_accuracy: 0.8377\n",
            "Epoch 97/100\n",
            "814/814 [==============================] - 1s 707us/step - loss: 0.2292 - accuracy: 0.8922 - val_loss: 0.4113 - val_accuracy: 0.8334\n",
            "Epoch 98/100\n",
            "814/814 [==============================] - 1s 702us/step - loss: 0.2259 - accuracy: 0.8934 - val_loss: 0.4124 - val_accuracy: 0.8394\n",
            "Epoch 99/100\n",
            "814/814 [==============================] - 1s 713us/step - loss: 0.2263 - accuracy: 0.8932 - val_loss: 0.4095 - val_accuracy: 0.8365\n",
            "Epoch 100/100\n",
            "814/814 [==============================] - 1s 711us/step - loss: 0.2248 - accuracy: 0.8935 - val_loss: 0.4197 - val_accuracy: 0.8432\n"
          ]
        },
        {
          "data": {
            "text/plain": [
              "<keras.src.callbacks.History at 0x23960fbed90>"
            ]
          },
          "execution_count": 8,
          "metadata": {},
          "output_type": "execute_result"
        }
      ],
      "source": [
        "model.fit(X_train_std, y_train, epochs=100, batch_size=32, validation_split=0.2)"
      ]
    },
    {
      "cell_type": "markdown",
      "metadata": {
        "id": "6GW7uNvAaGdX"
      },
      "source": [
        "## Test model"
      ]
    },
    {
      "cell_type": "code",
      "execution_count": 9,
      "metadata": {
        "id": "08lrK6WaHmxs"
      },
      "outputs": [
        {
          "name": "stdout",
          "output_type": "stream",
          "text": [
            "509/509 [==============================] - 0s 464us/step\n"
          ]
        }
      ],
      "source": [
        "y_pred_proba = model.predict(X_test_std)\n",
        "y_pred = (y_pred_proba > 0.5).astype(int)"
      ]
    },
    {
      "cell_type": "markdown",
      "metadata": {
        "id": "Se3fWaj1aR-b"
      },
      "source": [
        "## Evaluate"
      ]
    },
    {
      "cell_type": "code",
      "execution_count": 10,
      "metadata": {
        "id": "rPeEuePCH0Vg"
      },
      "outputs": [
        {
          "name": "stdout",
          "output_type": "stream",
          "text": [
            "Accuracy: 0.84\n"
          ]
        }
      ],
      "source": [
        "accuracy = accuracy_score(y_test, y_pred)\n",
        "print(f'Accuracy: {accuracy:.2f}')"
      ]
    },
    {
      "cell_type": "markdown",
      "metadata": {
        "id": "DF-AAAeFaYdJ"
      },
      "source": [
        "## Save model and weights"
      ]
    },
    {
      "cell_type": "code",
      "execution_count": 11,
      "metadata": {
        "id": "nxB-cY8GKGo3"
      },
      "outputs": [
        {
          "name": "stdout",
          "output_type": "stream",
          "text": [
            "INFO:tensorflow:Assets written to: ./models/dnn\\assets\n"
          ]
        },
        {
          "name": "stderr",
          "output_type": "stream",
          "text": [
            "INFO:tensorflow:Assets written to: ./models/dnn\\assets\n"
          ]
        }
      ],
      "source": [
        "model.save_weights('./weights/dnn.h5')\n",
        "model.save('./models/dnn')"
      ]
    },
    {
      "cell_type": "markdown",
      "metadata": {
        "id": "_EHw8gTja6Rh"
      },
      "source": [
        "# SVM"
      ]
    },
    {
      "cell_type": "markdown",
      "metadata": {
        "id": "rrkxVSs4bG3F"
      },
      "source": [
        "## Train model"
      ]
    },
    {
      "cell_type": "code",
      "execution_count": 12,
      "metadata": {
        "id": "_EJERmIga_SK"
      },
      "outputs": [
        {
          "name": "stdout",
          "output_type": "stream",
          "text": [
            "[LibSVM]"
          ]
        },
        {
          "data": {
            "text/html": [
              "<style>#sk-container-id-1 {color: black;}#sk-container-id-1 pre{padding: 0;}#sk-container-id-1 div.sk-toggleable {background-color: white;}#sk-container-id-1 label.sk-toggleable__label {cursor: pointer;display: block;width: 100%;margin-bottom: 0;padding: 0.3em;box-sizing: border-box;text-align: center;}#sk-container-id-1 label.sk-toggleable__label-arrow:before {content: \"▸\";float: left;margin-right: 0.25em;color: #696969;}#sk-container-id-1 label.sk-toggleable__label-arrow:hover:before {color: black;}#sk-container-id-1 div.sk-estimator:hover label.sk-toggleable__label-arrow:before {color: black;}#sk-container-id-1 div.sk-toggleable__content {max-height: 0;max-width: 0;overflow: hidden;text-align: left;background-color: #f0f8ff;}#sk-container-id-1 div.sk-toggleable__content pre {margin: 0.2em;color: black;border-radius: 0.25em;background-color: #f0f8ff;}#sk-container-id-1 input.sk-toggleable__control:checked~div.sk-toggleable__content {max-height: 200px;max-width: 100%;overflow: auto;}#sk-container-id-1 input.sk-toggleable__control:checked~label.sk-toggleable__label-arrow:before {content: \"▾\";}#sk-container-id-1 div.sk-estimator input.sk-toggleable__control:checked~label.sk-toggleable__label {background-color: #d4ebff;}#sk-container-id-1 div.sk-label input.sk-toggleable__control:checked~label.sk-toggleable__label {background-color: #d4ebff;}#sk-container-id-1 input.sk-hidden--visually {border: 0;clip: rect(1px 1px 1px 1px);clip: rect(1px, 1px, 1px, 1px);height: 1px;margin: -1px;overflow: hidden;padding: 0;position: absolute;width: 1px;}#sk-container-id-1 div.sk-estimator {font-family: monospace;background-color: #f0f8ff;border: 1px dotted black;border-radius: 0.25em;box-sizing: border-box;margin-bottom: 0.5em;}#sk-container-id-1 div.sk-estimator:hover {background-color: #d4ebff;}#sk-container-id-1 div.sk-parallel-item::after {content: \"\";width: 100%;border-bottom: 1px solid gray;flex-grow: 1;}#sk-container-id-1 div.sk-label:hover label.sk-toggleable__label {background-color: #d4ebff;}#sk-container-id-1 div.sk-serial::before {content: \"\";position: absolute;border-left: 1px solid gray;box-sizing: border-box;top: 0;bottom: 0;left: 50%;z-index: 0;}#sk-container-id-1 div.sk-serial {display: flex;flex-direction: column;align-items: center;background-color: white;padding-right: 0.2em;padding-left: 0.2em;position: relative;}#sk-container-id-1 div.sk-item {position: relative;z-index: 1;}#sk-container-id-1 div.sk-parallel {display: flex;align-items: stretch;justify-content: center;background-color: white;position: relative;}#sk-container-id-1 div.sk-item::before, #sk-container-id-1 div.sk-parallel-item::before {content: \"\";position: absolute;border-left: 1px solid gray;box-sizing: border-box;top: 0;bottom: 0;left: 50%;z-index: -1;}#sk-container-id-1 div.sk-parallel-item {display: flex;flex-direction: column;z-index: 1;position: relative;background-color: white;}#sk-container-id-1 div.sk-parallel-item:first-child::after {align-self: flex-end;width: 50%;}#sk-container-id-1 div.sk-parallel-item:last-child::after {align-self: flex-start;width: 50%;}#sk-container-id-1 div.sk-parallel-item:only-child::after {width: 0;}#sk-container-id-1 div.sk-dashed-wrapped {border: 1px dashed gray;margin: 0 0.4em 0.5em 0.4em;box-sizing: border-box;padding-bottom: 0.4em;background-color: white;}#sk-container-id-1 div.sk-label label {font-family: monospace;font-weight: bold;display: inline-block;line-height: 1.2em;}#sk-container-id-1 div.sk-label-container {text-align: center;}#sk-container-id-1 div.sk-container {/* jupyter's `normalize.less` sets `[hidden] { display: none; }` but bootstrap.min.css set `[hidden] { display: none !important; }` so we also need the `!important` here to be able to override the default hidden behavior on the sphinx rendered scikit-learn.org. See: https://github.com/scikit-learn/scikit-learn/issues/21755 */display: inline-block !important;position: relative;}#sk-container-id-1 div.sk-text-repr-fallback {display: none;}</style><div id=\"sk-container-id-1\" class=\"sk-top-container\"><div class=\"sk-text-repr-fallback\"><pre>SVC(kernel=&#x27;linear&#x27;, verbose=True)</pre><b>In a Jupyter environment, please rerun this cell to show the HTML representation or trust the notebook. <br />On GitHub, the HTML representation is unable to render, please try loading this page with nbviewer.org.</b></div><div class=\"sk-container\" hidden><div class=\"sk-item\"><div class=\"sk-estimator sk-toggleable\"><input class=\"sk-toggleable__control sk-hidden--visually\" id=\"sk-estimator-id-1\" type=\"checkbox\" checked><label for=\"sk-estimator-id-1\" class=\"sk-toggleable__label sk-toggleable__label-arrow\">SVC</label><div class=\"sk-toggleable__content\"><pre>SVC(kernel=&#x27;linear&#x27;, verbose=True)</pre></div></div></div></div></div>"
            ],
            "text/plain": [
              "SVC(kernel='linear', verbose=True)"
            ]
          },
          "execution_count": 12,
          "metadata": {},
          "output_type": "execute_result"
        }
      ],
      "source": [
        "svm_model = SVC(kernel='linear', verbose=True)\n",
        "svm_model.fit(X_train_std, y_train)"
      ]
    },
    {
      "cell_type": "markdown",
      "metadata": {
        "id": "MU6qv3HcbI4s"
      },
      "source": [
        "## Test model"
      ]
    },
    {
      "cell_type": "code",
      "execution_count": 13,
      "metadata": {
        "id": "PITPqcR-bMyd"
      },
      "outputs": [],
      "source": [
        "y_pred = svm_model.predict(X_test_std)"
      ]
    },
    {
      "cell_type": "markdown",
      "metadata": {
        "id": "qwgfU18ibpZj"
      },
      "source": [
        "## Evaluate"
      ]
    },
    {
      "cell_type": "code",
      "execution_count": 14,
      "metadata": {
        "id": "XhBEaRTMbrCo"
      },
      "outputs": [
        {
          "name": "stdout",
          "output_type": "stream",
          "text": [
            "Accuracy: 0.81\n"
          ]
        }
      ],
      "source": [
        "accuracy = accuracy_score(y_test, y_pred)\n",
        "print(f'Accuracy: {accuracy:.2f}')"
      ]
    },
    {
      "cell_type": "markdown",
      "metadata": {
        "id": "OXHmXwhlbLpm"
      },
      "source": [
        "# Logistic Regression"
      ]
    },
    {
      "cell_type": "markdown",
      "metadata": {
        "id": "hWpVrKbZbbaw"
      },
      "source": [
        "## Train model"
      ]
    },
    {
      "cell_type": "code",
      "execution_count": 20,
      "metadata": {
        "id": "5GUxPc4YbUSH"
      },
      "outputs": [
        {
          "data": {
            "text/html": [
              "<style>#sk-container-id-2 {color: black;}#sk-container-id-2 pre{padding: 0;}#sk-container-id-2 div.sk-toggleable {background-color: white;}#sk-container-id-2 label.sk-toggleable__label {cursor: pointer;display: block;width: 100%;margin-bottom: 0;padding: 0.3em;box-sizing: border-box;text-align: center;}#sk-container-id-2 label.sk-toggleable__label-arrow:before {content: \"▸\";float: left;margin-right: 0.25em;color: #696969;}#sk-container-id-2 label.sk-toggleable__label-arrow:hover:before {color: black;}#sk-container-id-2 div.sk-estimator:hover label.sk-toggleable__label-arrow:before {color: black;}#sk-container-id-2 div.sk-toggleable__content {max-height: 0;max-width: 0;overflow: hidden;text-align: left;background-color: #f0f8ff;}#sk-container-id-2 div.sk-toggleable__content pre {margin: 0.2em;color: black;border-radius: 0.25em;background-color: #f0f8ff;}#sk-container-id-2 input.sk-toggleable__control:checked~div.sk-toggleable__content {max-height: 200px;max-width: 100%;overflow: auto;}#sk-container-id-2 input.sk-toggleable__control:checked~label.sk-toggleable__label-arrow:before {content: \"▾\";}#sk-container-id-2 div.sk-estimator input.sk-toggleable__control:checked~label.sk-toggleable__label {background-color: #d4ebff;}#sk-container-id-2 div.sk-label input.sk-toggleable__control:checked~label.sk-toggleable__label {background-color: #d4ebff;}#sk-container-id-2 input.sk-hidden--visually {border: 0;clip: rect(1px 1px 1px 1px);clip: rect(1px, 1px, 1px, 1px);height: 1px;margin: -1px;overflow: hidden;padding: 0;position: absolute;width: 1px;}#sk-container-id-2 div.sk-estimator {font-family: monospace;background-color: #f0f8ff;border: 1px dotted black;border-radius: 0.25em;box-sizing: border-box;margin-bottom: 0.5em;}#sk-container-id-2 div.sk-estimator:hover {background-color: #d4ebff;}#sk-container-id-2 div.sk-parallel-item::after {content: \"\";width: 100%;border-bottom: 1px solid gray;flex-grow: 1;}#sk-container-id-2 div.sk-label:hover label.sk-toggleable__label {background-color: #d4ebff;}#sk-container-id-2 div.sk-serial::before {content: \"\";position: absolute;border-left: 1px solid gray;box-sizing: border-box;top: 0;bottom: 0;left: 50%;z-index: 0;}#sk-container-id-2 div.sk-serial {display: flex;flex-direction: column;align-items: center;background-color: white;padding-right: 0.2em;padding-left: 0.2em;position: relative;}#sk-container-id-2 div.sk-item {position: relative;z-index: 1;}#sk-container-id-2 div.sk-parallel {display: flex;align-items: stretch;justify-content: center;background-color: white;position: relative;}#sk-container-id-2 div.sk-item::before, #sk-container-id-2 div.sk-parallel-item::before {content: \"\";position: absolute;border-left: 1px solid gray;box-sizing: border-box;top: 0;bottom: 0;left: 50%;z-index: -1;}#sk-container-id-2 div.sk-parallel-item {display: flex;flex-direction: column;z-index: 1;position: relative;background-color: white;}#sk-container-id-2 div.sk-parallel-item:first-child::after {align-self: flex-end;width: 50%;}#sk-container-id-2 div.sk-parallel-item:last-child::after {align-self: flex-start;width: 50%;}#sk-container-id-2 div.sk-parallel-item:only-child::after {width: 0;}#sk-container-id-2 div.sk-dashed-wrapped {border: 1px dashed gray;margin: 0 0.4em 0.5em 0.4em;box-sizing: border-box;padding-bottom: 0.4em;background-color: white;}#sk-container-id-2 div.sk-label label {font-family: monospace;font-weight: bold;display: inline-block;line-height: 1.2em;}#sk-container-id-2 div.sk-label-container {text-align: center;}#sk-container-id-2 div.sk-container {/* jupyter's `normalize.less` sets `[hidden] { display: none; }` but bootstrap.min.css set `[hidden] { display: none !important; }` so we also need the `!important` here to be able to override the default hidden behavior on the sphinx rendered scikit-learn.org. See: https://github.com/scikit-learn/scikit-learn/issues/21755 */display: inline-block !important;position: relative;}#sk-container-id-2 div.sk-text-repr-fallback {display: none;}</style><div id=\"sk-container-id-2\" class=\"sk-top-container\"><div class=\"sk-text-repr-fallback\"><pre>LogisticRegression()</pre><b>In a Jupyter environment, please rerun this cell to show the HTML representation or trust the notebook. <br />On GitHub, the HTML representation is unable to render, please try loading this page with nbviewer.org.</b></div><div class=\"sk-container\" hidden><div class=\"sk-item\"><div class=\"sk-estimator sk-toggleable\"><input class=\"sk-toggleable__control sk-hidden--visually\" id=\"sk-estimator-id-2\" type=\"checkbox\" checked><label for=\"sk-estimator-id-2\" class=\"sk-toggleable__label sk-toggleable__label-arrow\">LogisticRegression</label><div class=\"sk-toggleable__content\"><pre>LogisticRegression()</pre></div></div></div></div></div>"
            ],
            "text/plain": [
              "LogisticRegression()"
            ]
          },
          "execution_count": 20,
          "metadata": {},
          "output_type": "execute_result"
        }
      ],
      "source": [
        "classifier = LogisticRegression()\n",
        "classifier.fit(X_train_std, y_train)"
      ]
    },
    {
      "cell_type": "markdown",
      "metadata": {
        "id": "mYwxvGcObeJR"
      },
      "source": [
        "## Test model"
      ]
    },
    {
      "cell_type": "code",
      "execution_count": 21,
      "metadata": {
        "id": "RfkYyhx8bfns"
      },
      "outputs": [
        {
          "name": "stderr",
          "output_type": "stream",
          "text": [
            "c:\\Works\\predict-adult-income\\venv\\Lib\\site-packages\\sklearn\\base.py:458: UserWarning: X has feature names, but LogisticRegression was fitted without feature names\n",
            "  warnings.warn(\n"
          ]
        }
      ],
      "source": [
        "predictions = classifier.predict(X_test)"
      ]
    },
    {
      "cell_type": "markdown",
      "metadata": {
        "id": "hDdHSn5Ubhlw"
      },
      "source": [
        "## Evaluate model"
      ]
    },
    {
      "cell_type": "code",
      "execution_count": 22,
      "metadata": {
        "id": "KXDoBY4Kbj3v"
      },
      "outputs": [
        {
          "name": "stdout",
          "output_type": "stream",
          "text": [
            "0.23622627602727106\n"
          ]
        }
      ],
      "source": [
        "accuracy = accuracy_score(y_test, predictions)\n",
        "print(accuracy)"
      ]
    }
  ],
  "metadata": {
    "accelerator": "GPU",
    "colab": {
      "collapsed_sections": [
        "B5GcTxMaYnAo",
        "QQMMCwevY3Lo",
        "_x1GZaURY8G7",
        "TED1th2UZJHS",
        "BVlsalRxZ4UX",
        "dLTojaXuZ_M_",
        "6GW7uNvAaGdX",
        "Se3fWaj1aR-b",
        "_EHw8gTja6Rh",
        "qwgfU18ibpZj",
        "OXHmXwhlbLpm"
      ],
      "gpuType": "T4",
      "provenance": []
    },
    "kernelspec": {
      "display_name": "Python 3",
      "name": "python3"
    },
    "language_info": {
      "codemirror_mode": {
        "name": "ipython",
        "version": 3
      },
      "file_extension": ".py",
      "mimetype": "text/x-python",
      "name": "python",
      "nbconvert_exporter": "python",
      "pygments_lexer": "ipython3",
      "version": "3.11.3"
    }
  },
  "nbformat": 4,
  "nbformat_minor": 0
}
